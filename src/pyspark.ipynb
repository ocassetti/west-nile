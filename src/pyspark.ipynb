{
 "cells": [
  {
   "cell_type": "code",
   "execution_count": 11,
   "metadata": {
    "collapsed": true
   },
   "outputs": [],
   "source": [
    "weatherDS = spark.read.csv(\"../input/weather.csv\", header=True)"
   ]
  },
  {
   "cell_type": "code",
   "execution_count": 12,
   "metadata": {
    "collapsed": true
   },
   "outputs": [],
   "source": [
    "weatherDS.createOrReplaceTempView(\"weatherDS\")\n",
    "weatherDS = sqlContext.sql(\"SELECT * FROM weatherDS WHERE Station = 1\")\n",
    "weatherDS.createOrReplaceTempView(\"weatherDS\")"
   ]
  },
  {
   "cell_type": "code",
   "execution_count": 13,
   "metadata": {
    "collapsed": true
   },
   "outputs": [],
   "source": [
    "from pyspark.sql.functions import UserDefinedFunction\n",
    "from pyspark.sql.types import IntegerType\n",
    "\n",
    "def hhmmTo24Sec(hhmmStr):\n",
    "    h = int(hhmmStr[0:2])\n",
    "    m = int(hhmmStr[2:4])\n",
    "    return h*3600 + m*60\n",
    "\n",
    "\n",
    "\n",
    "\n",
    "\n",
    "\n",
    "#weatherDS = weatherDS.select([hhmmTo24SecUDF(c).alias(c) if c in targetColumns else c for c in weatherDS.columns])\n",
    "#weatherDS = weatherDS.selectExpr([\"*\", \"YEAR(CAST(weatherDS.Date AS DATE)) year\", \n",
    "#                                        \"MONTH(CAST(weatherDS.Date AS DATE)) month\"]\n",
    "#                                                   ).alias(\"weatherDS\")\n",
    "\n",
    "\n"
   ]
  },
  {
   "cell_type": "code",
   "execution_count": 14,
   "metadata": {
    "collapsed": true
   },
   "outputs": [],
   "source": [
    "def extractDateFeatures(weatherDF):\n",
    "    \n",
    "    yearColDef = \"YEAR(CAST(Date AS DATE)) year\"\n",
    "    monthColDef = \"MONTH(CAST(Date AS DATE)) month\"\n",
    "    weatherDF = weatherDF.selectExpr([\"*\", yearColDef , monthColDef ])\n",
    "    return weatherDF\n",
    "\n",
    "\n",
    "def hhmmTo24SecDf(weatherDF, inputColumns=[\"Sunrise\", \"Sunset\"]):\n",
    "\n",
    "    targetColumns = set(inputColumns)\n",
    "    hhmmTo24SecUDF = UserDefinedFunction(lambda x: hhmmTo24Sec(x), IntegerType())\n",
    "    weatherDF = weatherDF.select([hhmmTo24SecUDF(c).alias(c) if c in targetColumns else c for c in weatherDS.columns])\n",
    "    return weatherDF\n",
    "\n",
    "\n",
    "weatherDS = extractDateFeatures(weatherDS)\n",
    "weatherDS = hhmmTo24SecDf(weatherDS)\n",
    "weatherDS = weatherDS.alias(\"weatherDS\")"
   ]
  },
  {
   "cell_type": "code",
   "execution_count": 15,
   "metadata": {
    "scrolled": true
   },
   "outputs": [
    {
     "name": "stdout",
     "output_type": "stream",
     "text": [
      "+-------+----------+----+----+----+------+--------+-------+----+----+-------+------+-------+-----+------+--------+-----------+-----------+--------+-----------+---------+--------+\n",
      "|Station|      Date|Tmax|Tmin|Tavg|Depart|DewPoint|WetBulb|Heat|Cool|Sunrise|Sunset|CodeSum|Depth|Water1|SnowFall|PrecipTotal|StnPressure|SeaLevel|ResultSpeed|ResultDir|AvgSpeed|\n",
      "+-------+----------+----+----+----+------+--------+-------+----+----+-------+------+-------+-----+------+--------+-----------+-----------+--------+-----------+---------+--------+\n",
      "|      1|2007-05-01|  83|  50|  67|    14|      51|     56|   0|   2|   0448|  1849|       |    0|     M|     0.0|       0.00|      29.10|   29.82|        1.7|       27|     9.2|\n",
      "|      1|2007-05-02|  59|  42|  51|    -3|      42|     47|  14|   0|   0447|  1850|     BR|    0|     M|     0.0|       0.00|      29.38|   30.09|         13|        4|    13.4|\n",
      "|      1|2007-05-03|  66|  46|  56|     2|      40|     48|   9|   0|   0446|  1851|       |    0|     M|     0.0|       0.00|      29.39|   30.12|       11.7|        7|    11.9|\n",
      "|      1|2007-05-04|  66|  49|  58|     4|      41|     50|   7|   0|   0444|  1852|     RA|    0|     M|     0.0|          T|      29.31|   30.05|       10.4|        8|    10.8|\n",
      "|      1|2007-05-05|  66|  53|  60|     5|      38|     49|   5|   0|   0443|  1853|       |    0|     M|     0.0|          T|      29.40|   30.10|       11.7|        7|    12.0|\n",
      "|      1|2007-05-06|  68|  49|  59|     4|      30|     46|   6|   0|   0442|  1855|       |    0|     M|     0.0|       0.00|      29.57|   30.29|       14.4|       11|    15.0|\n",
      "|      1|2007-05-07|  83|  47|  65|    10|      41|     54|   0|   0|   0441|  1856|     RA|    0|     M|     0.0|          T|      29.38|   30.12|        8.6|       18|    10.5|\n",
      "|      1|2007-05-08|  82|  54|  68|    12|      58|     62|   0|   3|   0439|  1857|     BR|    0|     M|     0.0|       0.00|      29.29|   30.03|        2.7|       11|     5.8|\n",
      "|      1|2007-05-09|  77|  61|  69|    13|      59|     63|   0|   4|   0438|  1858|  BR HZ|    0|     M|     0.0|       0.13|      29.21|   29.94|        3.9|        9|     6.2|\n",
      "|      1|2007-05-10|  84|  56|  70|    14|      52|     60|   0|   5|   0437|  1859|     BR|    0|     M|     0.0|       0.00|      29.20|   29.92|        0.7|       17|     4.1|\n",
      "|      1|2007-05-11|  70|  51|  61|     4|      42|     51|   4|   0|   0436|  1860|       |    0|     M|     0.0|       0.00|      29.33|   30.04|       11.3|        3|    12.9|\n",
      "|      1|2007-05-12|  64|  46|  55|    -2|      36|     46|  10|   0|   0435|  1901|       |    0|     M|     0.0|       0.00|      29.49|   30.20|       12.4|        3|    12.9|\n",
      "|      1|2007-05-13|  69|  43|  56|    -2|      33|     46|   9|   0|   0434|  1902|       |    0|     M|     0.0|       0.00|      29.49|   30.24|        6.6|       14|     8.1|\n",
      "|      1|2007-05-14|  90|  56|  73|    15|      47|     59|   0|   8|   0433|  1903|       |    0|     M|     0.0|       0.00|      29.23|   29.97|       16.9|       21|    17.3|\n",
      "|      1|2007-05-15|  80|  57|  69|    11|      56|     61|   0|   4|   0432|  1904|  RA BR|    0|     M|     0.0|       0.38|      29.13|   29.84|        8.1|       27|    12.3|\n",
      "|      1|2007-05-16|  66|  44|  55|    -4|      43|     48|  10|   0|   0431|  1905|  RA BR|    0|     M|     0.0|       0.14|      29.33|   30.03|        7.8|       36|    12.2|\n",
      "|      1|2007-05-17|  62|  43|  53|    -6|      32|     43|  12|   0|   0430|  1906|       |    0|     M|     0.0|       0.00|      29.55|   30.27|       10.5|        3|    11.3|\n",
      "|      1|2007-05-18|  71|  42|  57|    -3|      30|     46|   8|   0|   0429|  1907|       |    0|     M|     0.0|       0.00|      29.53|   30.25|        5.4|       25|     7.5|\n",
      "|      1|2007-05-19|  80|  56|  68|     8|      39|     53|   0|   3|   0428|  1908|       |    0|     M|     0.0|       0.00|      29.34|   30.08|       11.1|       24|    11.4|\n",
      "|      1|2007-05-20|  69|  43|  56|    -5|      40|     44|   9|   0|   0427|  1909|RA VCTS|    0|     M|     0.0|       0.07|      29.38|   30.11|       10.4|        4|    10.7|\n",
      "+-------+----------+----+----+----+------+--------+-------+----+----+-------+------+-------+-----+------+--------+-----------+-----------+--------+-----------+---------+--------+\n",
      "only showing top 20 rows\n",
      "\n"
     ]
    }
   ],
   "source": [
    "sqlContext.sql(\"SELECT * FROM weatherDS\").show()"
   ]
  },
  {
   "cell_type": "markdown",
   "metadata": {},
   "source": [
    "I know what columns should be numeric but I don't know what non numeric values are there. I am assuming that \n",
    "there should be only \n",
    "1. M for missing\n",
    "2. T for traces \n",
    "\n",
    "However we better check"
   ]
  },
  {
   "cell_type": "code",
   "execution_count": 16,
   "metadata": {},
   "outputs": [],
   "source": [
    "continuosColums = set([\"Tmax\", \"Tmin\", \"Tavg\", \"Depart\", \"DewPoint\", \"WetBulb\", \"Heat\", \"Cool\", \n",
    "                       \"Sunrise\", \"Sunset\", \"Depth\", \"SnowFall\", \"PrecipTotal\", \n",
    "                      \"StnPressure\", \"SeaLevel\", \"ResultSpeed\", \"ResultDir\", \"AvgSpeed\"])\n",
    "\n",
    "def nonNumericValues(df, colName):\n",
    "         \n",
    "        resultSet = df.select(colName).filter(\"TRIM({}) not rlike '^[0-9\\-]' \".format(colName)).distinct().collect()\n",
    "        return [x[colName] for x in resultSet]\n",
    "\n",
    "\n",
    "columnProperties = {}   \n",
    "for x in continuosColums:\n",
    "     l = nonNumericValues(weatherDS, x)\n",
    "     columnProperties[x] = {\"nonNumericValues\": l}   \n",
    "\n"
   ]
  },
  {
   "cell_type": "code",
   "execution_count": 17,
   "metadata": {},
   "outputs": [
    {
     "data": {
      "text/html": [
       "<div>\n",
       "<style>\n",
       "    .dataframe thead tr:only-child th {\n",
       "        text-align: right;\n",
       "    }\n",
       "\n",
       "    .dataframe thead th {\n",
       "        text-align: left;\n",
       "    }\n",
       "\n",
       "    .dataframe tbody tr th {\n",
       "        vertical-align: top;\n",
       "    }\n",
       "</style>\n",
       "<table border=\"1\" class=\"dataframe\">\n",
       "  <thead>\n",
       "    <tr style=\"text-align: right;\">\n",
       "      <th></th>\n",
       "      <th>AvgSpeed</th>\n",
       "      <th>Cool</th>\n",
       "      <th>Depart</th>\n",
       "      <th>Depth</th>\n",
       "      <th>DewPoint</th>\n",
       "      <th>Heat</th>\n",
       "      <th>PrecipTotal</th>\n",
       "      <th>ResultDir</th>\n",
       "      <th>ResultSpeed</th>\n",
       "      <th>SeaLevel</th>\n",
       "      <th>SnowFall</th>\n",
       "      <th>StnPressure</th>\n",
       "      <th>Sunrise</th>\n",
       "      <th>Sunset</th>\n",
       "      <th>Tavg</th>\n",
       "      <th>Tmax</th>\n",
       "      <th>Tmin</th>\n",
       "      <th>WetBulb</th>\n",
       "    </tr>\n",
       "  </thead>\n",
       "  <tbody>\n",
       "    <tr>\n",
       "      <th>nonNumericValues</th>\n",
       "      <td>[]</td>\n",
       "      <td>[]</td>\n",
       "      <td>[]</td>\n",
       "      <td>[]</td>\n",
       "      <td>[]</td>\n",
       "      <td>[]</td>\n",
       "      <td>[  T]</td>\n",
       "      <td>[]</td>\n",
       "      <td>[]</td>\n",
       "      <td>[M]</td>\n",
       "      <td>[  T]</td>\n",
       "      <td>[M]</td>\n",
       "      <td>[]</td>\n",
       "      <td>[]</td>\n",
       "      <td>[]</td>\n",
       "      <td>[]</td>\n",
       "      <td>[]</td>\n",
       "      <td>[M]</td>\n",
       "    </tr>\n",
       "  </tbody>\n",
       "</table>\n",
       "</div>"
      ],
      "text/plain": [
       "                 AvgSpeed Cool Depart Depth DewPoint Heat PrecipTotal  \\\n",
       "nonNumericValues       []   []     []    []       []   []       [  T]   \n",
       "\n",
       "                 ResultDir ResultSpeed SeaLevel SnowFall StnPressure Sunrise  \\\n",
       "nonNumericValues        []          []      [M]    [  T]         [M]      []   \n",
       "\n",
       "                 Sunset Tavg Tmax Tmin WetBulb  \n",
       "nonNumericValues     []   []   []   []     [M]  "
      ]
     },
     "execution_count": 17,
     "metadata": {},
     "output_type": "execute_result"
    }
   ],
   "source": [
    "import pandas as pd\n",
    "\n",
    "pd.DataFrame(columnProperties)"
   ]
  },
  {
   "cell_type": "markdown",
   "metadata": {},
   "source": [
    "The replacement stragegy is pretty simple:\n",
    "\n",
    "* We replace T with the minumn value ever recored \n",
    "* We replace M with the average for that month ( we could replace with the average for that week of the month or any other time interval )"
   ]
  },
  {
   "cell_type": "code",
   "execution_count": null,
   "metadata": {
    "collapsed": true
   },
   "outputs": [],
   "source": []
  },
  {
   "cell_type": "code",
   "execution_count": 18,
   "metadata": {
    "collapsed": true
   },
   "outputs": [],
   "source": [
    "from pyspark.sql.functions import col \n",
    "\n",
    "defaultCols = weatherDS.columns \n",
    "\n",
    "\n",
    "for columnName, properties in columnProperties.items() : \n",
    "    nonNumericValues = properties['nonNumericValues']\n",
    "    if(len(nonNumericValues)) != 0:\n",
    "         # Filter  needed\n",
    "         minVal = weatherDS.selectExpr(\"MIN(CAST( {} AS DOUBLE)) min_val\"\\\n",
    "                                       .format(columnName)).collect()[0]['min_val']\n",
    "            \n",
    "         weatherDS.createOrReplaceTempView(\"weatherDS\")   \n",
    "         avgValDF = sqlContext.sql(\"\"\"\n",
    "         SELECT \n",
    "         year,\n",
    "         month, \n",
    "         AVG({}) avg_val\n",
    "         FROM weatherDS \n",
    "         GROUP BY 1,2\n",
    "         \"\"\".format(columnName))\n",
    "         avgValDF = avgValDF.alias(\"avgValDF\")\n",
    "         weatherDS = weatherDS.join(avgValDF, (weatherDS.year == avgValDF.year) &\n",
    "                                   (weatherDS.month == avgValDF.month),\n",
    "                        \"left\").\\\n",
    "         selectExpr([\"weatherDS.*\" , \"\"\"CAST(CASE WHEN TRIM({0}) == 'T' THEN {1} \n",
    "                                WHEN TRIM({0}) == 'M' THEN avg_val\n",
    "                                ELSE TRIM({0})\n",
    "                                END AS DOUBLE\n",
    "                           ) new_{0}     \n",
    "                 \"\"\".format(columnName, minVal)\n",
    "                   ])\n",
    "         \n",
    "    else:\n",
    "        weatherDS = weatherDS.selectExpr([\"weatherDS.*\", \"CAST({0} AS DOUBLE) new_{0}\".format(columnName)])\n",
    "     \n",
    "    \n",
    "    weatherDS = weatherDS.drop(columnName).\\\n",
    "                 select([col(\"new_{}\".format(columnName)).alias(columnName) if x == columnName else x for x in defaultCols]) \n",
    "    weatherDS = weatherDS.alias(\"weatherDS\")\n",
    "    \n",
    "            \n",
    "\n"
   ]
  },
  {
   "cell_type": "code",
   "execution_count": 19,
   "metadata": {
    "collapsed": true
   },
   "outputs": [],
   "source": [
    "weatherDS = weatherDS.selectExpr([\"*\", \"CAST(Date as DATE) AS measureDate\"])\n",
    "weatherDS = weatherDS.alias(\"weatherDS\")\n"
   ]
  },
  {
   "cell_type": "code",
   "execution_count": 20,
   "metadata": {},
   "outputs": [
    {
     "name": "stdout",
     "output_type": "stream",
     "text": [
      "+-------+----------+----+----+----+------+--------+-------+----+----+-------+-------+-------------+-----+------+--------+-----------+-----------+--------+-----------+---------+--------+----+-----+-----------+\n",
      "|Station|      Date|Tmax|Tmin|Tavg|Depart|DewPoint|WetBulb|Heat|Cool|Sunrise| Sunset|      CodeSum|Depth|Water1|SnowFall|PrecipTotal|StnPressure|SeaLevel|ResultSpeed|ResultDir|AvgSpeed|year|month|measureDate|\n",
      "+-------+----------+----+----+----+------+--------+-------+----+----+-------+-------+-------------+-----+------+--------+-----------+-----------+--------+-----------+---------+--------+----+-----+-----------+\n",
      "|      1|2007-06-01|85.0|62.0|74.0|  10.0|    63.0|   66.0| 0.0| 9.0|15540.0|69600.0|   TSRA BR HZ|  0.0|     M|     0.0|       0.19|      29.19|   29.91|        4.2|     17.0|     6.4|2007|    6| 2007-06-01|\n",
      "|      1|2007-06-02|81.0|65.0|73.0|   9.0|    63.0|   67.0| 0.0| 8.0|15540.0|69600.0|        RA BR|  0.0|     M|     0.0|       0.04|      29.03|   29.77|        6.5|     22.0|     7.4|2007|    6| 2007-06-02|\n",
      "|      1|2007-06-03|78.0|62.0|70.0|   6.0|    60.0|   63.0| 0.0| 5.0|15480.0|69660.0|TSRA RA BR HZ|  0.0|     M|     0.0|       0.01|      28.82|   29.56|        5.2|     25.0|     6.7|2007|    6| 2007-06-03|\n",
      "|      1|2007-06-04|71.0|58.0|65.0|   1.0|    58.0|   60.0| 0.0| 0.0|15480.0|69720.0|   TSRA RA BR|  0.0|     M|     0.0|       0.39|      28.82|   29.52|        7.8|     31.0|     9.7|2007|    6| 2007-06-04|\n",
      "|      1|2007-06-05|64.0|47.0|56.0|  -9.0|    48.0|   51.0| 9.0| 0.0|15420.0|69780.0|        RA BR|  0.0|     M|     0.0|       0.42|       29.1|   29.79|        5.2|      5.0|     7.6|2007|    6| 2007-06-05|\n",
      "|      1|2007-06-06|71.0|44.0|58.0|  -8.0|    48.0|   55.0| 7.0| 0.0|15420.0|69780.0|           RA|  0.0|     M|     0.0|       0.01|      29.07|   29.81|       10.8|     17.0|    11.4|2007|    6| 2007-06-06|\n",
      "|      1|2007-06-07|91.0|71.0|81.0|  15.0|    62.0|   69.0| 0.0|16.0|15420.0|69840.0|             |  0.0|     M|     0.0|        0.0|      28.84|   29.55|       22.7|     20.0|    23.1|2007|    6| 2007-06-07|\n",
      "|      1|2007-06-08|81.0|57.0|69.0|   3.0|    53.0|   61.0| 0.0| 4.0|15420.0|69900.0|             |  0.0|     M|     0.0|        0.0|      29.18|   29.85|       10.9|     28.0|    13.8|2007|    6| 2007-06-08|\n",
      "|      1|2007-06-09|79.0|52.0|66.0|   0.0|    47.0|   57.0| 0.0| 1.0|15360.0|69900.0|             |  0.0|     M|     0.0|        0.0|      29.36|   30.07|        0.3|     33.0|     5.0|2007|    6| 2007-06-09|\n",
      "|      1|2007-06-10|81.0|55.0|68.0|   1.0|    51.0|   59.0| 0.0| 3.0|15360.0|69960.0|             |  0.0|     M|     0.0|        0.0|      29.34|   30.05|        4.8|     17.0|     5.6|2007|    6| 2007-06-10|\n",
      "|      1|2007-06-11|86.0|58.0|72.0|   5.0|    52.0|   61.0| 0.0| 7.0|15360.0|69960.0|             |  0.0|     M|     0.0|        0.0|      29.41|   30.11|        4.9|     11.0|     6.9|2007|    6| 2007-06-11|\n",
      "|      1|2007-06-12|83.0|62.0|73.0|   5.0|    50.0|   60.0| 0.0| 8.0|15360.0|70020.0|             |  0.0|     M|     0.0|        0.0|      29.44|   30.16|        8.3|      5.0|     8.8|2007|    6| 2007-06-12|\n",
      "|      1|2007-06-13|87.0|60.0|74.0|   6.0|    53.0|   62.0| 0.0| 9.0|15360.0|70020.0|             |  0.0|     M|     0.0|        0.0|      29.36|   30.09|        7.2|      5.0|     8.6|2007|    6| 2007-06-13|\n",
      "|      1|2007-06-14|89.0|64.0|77.0|   9.0|    55.0|   64.0| 0.0|12.0|15360.0|70080.0|             |  0.0|     M|     0.0|        0.0|       29.3|   30.02|        5.6|      5.0|     6.8|2007|    6| 2007-06-14|\n",
      "|      1|2007-06-15|91.0|63.0|77.0|   9.0|    56.0|   64.0| 0.0|12.0|15360.0|70080.0|             |  0.0|     M|     0.0|        0.0|      29.28|   29.99|        4.1|      6.0|     4.9|2007|    6| 2007-06-15|\n",
      "|      1|2007-06-16|93.0|66.0|80.0|  11.0|    60.0|   67.0| 0.0|15.0|15360.0|70140.0|        RA HZ|  0.0|     M|     0.0|        0.0|      29.26|   29.97|        4.8|     28.0|     5.8|2007|    6| 2007-06-16|\n",
      "|      1|2007-06-17|91.0|70.0|81.0|  12.0|    64.0|   70.0| 0.0|16.0|15360.0|70140.0|           HZ|  0.0|     M|     0.0|        0.0|      29.23|   29.95|        2.8|     11.0|     6.3|2007|    6| 2007-06-17|\n",
      "|      1|2007-06-18|89.0|69.0|79.0|   9.0|    65.0|   70.0| 0.0|14.0|15360.0|70140.0|   TSRA RA HZ|  0.0|     M|     0.0|       0.28|      29.12|   29.84|       14.0|     20.0|    15.1|2007|    6| 2007-06-18|\n",
      "|      1|2007-06-19|80.0|65.0|73.0|   3.0|    55.0|   63.0| 0.0| 8.0|15360.0|70200.0|           RA|  0.0|     M|     0.0|       0.58|      29.26|   29.95|       10.7|     28.0|    11.4|2007|    6| 2007-06-19|\n",
      "|      1|2007-06-20|84.0|61.0|73.0|   3.0|    52.0|   61.0| 0.0| 8.0|15360.0|70200.0|             |  0.0|     M|     0.0|        0.0|      29.39|    30.1|        7.8|     27.0|     8.8|2007|    6| 2007-06-20|\n",
      "+-------+----------+----+----+----+------+--------+-------+----+----+-------+-------+-------------+-----+------+--------+-----------+-----------+--------+-----------+---------+--------+----+-----+-----------+\n",
      "only showing top 20 rows\n",
      "\n"
     ]
    }
   ],
   "source": [
    "weatherDS.show()"
   ]
  },
  {
   "cell_type": "code",
   "execution_count": null,
   "metadata": {},
   "outputs": [],
   "source": [
    "from pyspark.sql import Window\n",
    "from pyspark.sql.functions import lag, avg\n",
    "\n",
    "lagWindow = Window.partitionBy(\"Station\").orderBy(\"measureDate\")\n",
    "\n",
    "for columnName in continuosColums:\n",
    "    for lagLevel in [1, 3, 8, 12]:\n",
    "        \n",
    "        weatherDS.createOrReplaceTempView(\"weatherDS\")\n",
    "        avgValDF = sqlContext.sql(\"\"\"\n",
    "                 SELECT \n",
    "                 year,\n",
    "                 month, \n",
    "                 AVG({}) avg_val\n",
    "                 FROM weatherDS \n",
    "                 GROUP BY 1,2\n",
    "                 \"\"\".format(columnName))\n",
    "        avgValDF = avgValDF.alias(\"avgValDF\")\n",
    "\n",
    "        weatherDS = weatherDS.select([\"*\", lag(columnName, 1).over(lagWindow).alias(\"{0}_lag_{1}\".format(columnName, lagLevel))]).\\\n",
    "        join(avgValDF, (weatherDS.year == avgValDF.year) &\n",
    "                       (weatherDS.month == avgValDF.month),\n",
    "             \"left\").\\\n",
    "        selectExpr([\"weatherDS.*\", \n",
    "                    \"CASE WHEN {0}_lag_1 IS NULL THEN avgValDF.avg_val ELSE {0}_lag_{1} END as {0}_lag_{1}\".format(columnName, lagLevel)\n",
    "                   ])\n",
    "        weatherDS = weatherDS.alias(\"weatherDS\")\n"
   ]
  },
  {
   "cell_type": "code",
   "execution_count": null,
   "metadata": {},
   "outputs": [],
   "source": [
    "weatherDS.show()\n"
   ]
  }
 ],
 "metadata": {
  "kernelspec": {
   "display_name": "Python [conda root]",
   "language": "python",
   "name": "conda-root-py"
  },
  "language_info": {
   "codemirror_mode": {
    "name": "ipython",
    "version": 3
   },
   "file_extension": ".py",
   "mimetype": "text/x-python",
   "name": "python",
   "nbconvert_exporter": "python",
   "pygments_lexer": "ipython3",
   "version": "3.5.4"
  }
 },
 "nbformat": 4,
 "nbformat_minor": 2
}
