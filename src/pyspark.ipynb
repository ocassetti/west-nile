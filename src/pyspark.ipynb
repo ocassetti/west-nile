{
 "cells": [
  {
   "cell_type": "code",
   "execution_count": 2,
   "metadata": {
    "collapsed": true
   },
   "outputs": [],
   "source": [
    "weatherDS = spark.read.csv(\"../input/weather.csv\", header=True)"
   ]
  },
  {
   "cell_type": "code",
   "execution_count": 3,
   "metadata": {
    "collapsed": true
   },
   "outputs": [],
   "source": [
    "weatherDS.createOrReplaceTempView(\"weatherDS\")\n",
    "weatherDS = sqlContext.sql(\"SELECT * FROM weatherDS WHERE Station = 1\")\n",
    "weatherDS.createOrReplaceTempView(\"weatherDS\")"
   ]
  },
  {
   "cell_type": "code",
   "execution_count": 4,
   "metadata": {
    "collapsed": true
   },
   "outputs": [],
   "source": [
    "from pyspark.sql.functions import UserDefinedFunction\n",
    "from pyspark.sql.types import IntegerType\n",
    "\n",
    "def hhmmTo24Sec(hhmmStr):\n",
    "    h = int(hhmmStr[0:2])\n",
    "    m = int(hhmmStr[2:4])\n",
    "    return h*3600 + m*60\n",
    "\n",
    "\n",
    "\n",
    "\n",
    "\n",
    "\n",
    "#weatherDS = weatherDS.select([hhmmTo24SecUDF(c).alias(c) if c in targetColumns else c for c in weatherDS.columns])\n",
    "#weatherDS = weatherDS.selectExpr([\"*\", \"YEAR(CAST(weatherDS.Date AS DATE)) year\", \n",
    "#                                        \"MONTH(CAST(weatherDS.Date AS DATE)) month\"]\n",
    "#                                                   ).alias(\"weatherDS\")\n",
    "\n",
    "\n"
   ]
  },
  {
   "cell_type": "code",
   "execution_count": 5,
   "metadata": {
    "collapsed": true
   },
   "outputs": [],
   "source": [
    "def extractDateFeatures(weatherDF):\n",
    "    \n",
    "    yearColDef = \"YEAR(CAST(Date AS DATE)) year\"\n",
    "    monthColDef = \"MONTH(CAST(Date AS DATE)) month\"\n",
    "    weatherDF = weatherDF.selectExpr([\"*\", yearColDef , monthColDef ])\n",
    "    return weatherDF\n",
    "\n",
    "\n",
    "def hhmmTo24SecDf(weatherDF, inputColumns=[\"Sunrise\", \"Sunset\"]):\n",
    "\n",
    "    targetColumns = set(inputColumns)\n",
    "    hhmmTo24SecUDF = UserDefinedFunction(lambda x: hhmmTo24Sec(x), IntegerType())\n",
    "    weatherDF = weatherDF.select([hhmmTo24SecUDF(c).alias(c) if c in targetColumns else c for c in weatherDS.columns])\n",
    "    return weatherDF\n",
    "\n",
    "\n",
    "weatherDS = extractDateFeatures(weatherDS)\n",
    "weatherDS = hhmmTo24SecDf(weatherDS)\n",
    "weatherDS = weatherDS.alias(\"weatherDS\")"
   ]
  },
  {
   "cell_type": "code",
   "execution_count": 6,
   "metadata": {
    "scrolled": true
   },
   "outputs": [
    {
     "name": "stdout",
     "output_type": "stream",
     "text": [
      "+-------+----------+----+----+----+------+--------+-------+----+----+-------+------+-------+-----+------+--------+-----------+-----------+--------+-----------+---------+--------+\n",
      "|Station|      Date|Tmax|Tmin|Tavg|Depart|DewPoint|WetBulb|Heat|Cool|Sunrise|Sunset|CodeSum|Depth|Water1|SnowFall|PrecipTotal|StnPressure|SeaLevel|ResultSpeed|ResultDir|AvgSpeed|\n",
      "+-------+----------+----+----+----+------+--------+-------+----+----+-------+------+-------+-----+------+--------+-----------+-----------+--------+-----------+---------+--------+\n",
      "|      1|2007-05-01|  83|  50|  67|    14|      51|     56|   0|   2|   0448|  1849|       |    0|     M|     0.0|       0.00|      29.10|   29.82|        1.7|       27|     9.2|\n",
      "|      1|2007-05-02|  59|  42|  51|    -3|      42|     47|  14|   0|   0447|  1850|     BR|    0|     M|     0.0|       0.00|      29.38|   30.09|         13|        4|    13.4|\n",
      "|      1|2007-05-03|  66|  46|  56|     2|      40|     48|   9|   0|   0446|  1851|       |    0|     M|     0.0|       0.00|      29.39|   30.12|       11.7|        7|    11.9|\n",
      "|      1|2007-05-04|  66|  49|  58|     4|      41|     50|   7|   0|   0444|  1852|     RA|    0|     M|     0.0|          T|      29.31|   30.05|       10.4|        8|    10.8|\n",
      "|      1|2007-05-05|  66|  53|  60|     5|      38|     49|   5|   0|   0443|  1853|       |    0|     M|     0.0|          T|      29.40|   30.10|       11.7|        7|    12.0|\n",
      "|      1|2007-05-06|  68|  49|  59|     4|      30|     46|   6|   0|   0442|  1855|       |    0|     M|     0.0|       0.00|      29.57|   30.29|       14.4|       11|    15.0|\n",
      "|      1|2007-05-07|  83|  47|  65|    10|      41|     54|   0|   0|   0441|  1856|     RA|    0|     M|     0.0|          T|      29.38|   30.12|        8.6|       18|    10.5|\n",
      "|      1|2007-05-08|  82|  54|  68|    12|      58|     62|   0|   3|   0439|  1857|     BR|    0|     M|     0.0|       0.00|      29.29|   30.03|        2.7|       11|     5.8|\n",
      "|      1|2007-05-09|  77|  61|  69|    13|      59|     63|   0|   4|   0438|  1858|  BR HZ|    0|     M|     0.0|       0.13|      29.21|   29.94|        3.9|        9|     6.2|\n",
      "|      1|2007-05-10|  84|  56|  70|    14|      52|     60|   0|   5|   0437|  1859|     BR|    0|     M|     0.0|       0.00|      29.20|   29.92|        0.7|       17|     4.1|\n",
      "|      1|2007-05-11|  70|  51|  61|     4|      42|     51|   4|   0|   0436|  1860|       |    0|     M|     0.0|       0.00|      29.33|   30.04|       11.3|        3|    12.9|\n",
      "|      1|2007-05-12|  64|  46|  55|    -2|      36|     46|  10|   0|   0435|  1901|       |    0|     M|     0.0|       0.00|      29.49|   30.20|       12.4|        3|    12.9|\n",
      "|      1|2007-05-13|  69|  43|  56|    -2|      33|     46|   9|   0|   0434|  1902|       |    0|     M|     0.0|       0.00|      29.49|   30.24|        6.6|       14|     8.1|\n",
      "|      1|2007-05-14|  90|  56|  73|    15|      47|     59|   0|   8|   0433|  1903|       |    0|     M|     0.0|       0.00|      29.23|   29.97|       16.9|       21|    17.3|\n",
      "|      1|2007-05-15|  80|  57|  69|    11|      56|     61|   0|   4|   0432|  1904|  RA BR|    0|     M|     0.0|       0.38|      29.13|   29.84|        8.1|       27|    12.3|\n",
      "|      1|2007-05-16|  66|  44|  55|    -4|      43|     48|  10|   0|   0431|  1905|  RA BR|    0|     M|     0.0|       0.14|      29.33|   30.03|        7.8|       36|    12.2|\n",
      "|      1|2007-05-17|  62|  43|  53|    -6|      32|     43|  12|   0|   0430|  1906|       |    0|     M|     0.0|       0.00|      29.55|   30.27|       10.5|        3|    11.3|\n",
      "|      1|2007-05-18|  71|  42|  57|    -3|      30|     46|   8|   0|   0429|  1907|       |    0|     M|     0.0|       0.00|      29.53|   30.25|        5.4|       25|     7.5|\n",
      "|      1|2007-05-19|  80|  56|  68|     8|      39|     53|   0|   3|   0428|  1908|       |    0|     M|     0.0|       0.00|      29.34|   30.08|       11.1|       24|    11.4|\n",
      "|      1|2007-05-20|  69|  43|  56|    -5|      40|     44|   9|   0|   0427|  1909|RA VCTS|    0|     M|     0.0|       0.07|      29.38|   30.11|       10.4|        4|    10.7|\n",
      "+-------+----------+----+----+----+------+--------+-------+----+----+-------+------+-------+-----+------+--------+-----------+-----------+--------+-----------+---------+--------+\n",
      "only showing top 20 rows\n",
      "\n"
     ]
    }
   ],
   "source": [
    "sqlContext.sql(\"SELECT * FROM weatherDS\").show()"
   ]
  },
  {
   "cell_type": "markdown",
   "metadata": {},
   "source": [
    "I know what columns should be numeric but I don't know what non numeric values are there. I am assuming that \n",
    "there should be only \n",
    "1. M for missing\n",
    "2. T for traces \n",
    "\n",
    "However we better check"
   ]
  },
  {
   "cell_type": "code",
   "execution_count": 7,
   "metadata": {},
   "outputs": [],
   "source": [
    "continuosColums = set([\"Tmax\", \"Tmin\", \"Tavg\", \"Depart\", \"DewPoint\", \"WetBulb\", \"Heat\", \"Cool\", \n",
    "                       \"Sunrise\", \"Sunset\", \"Depth\", \"SnowFall\", \"PrecipTotal\", \n",
    "                      \"StnPressure\", \"SeaLevel\", \"ResultSpeed\", \"ResultDir\", \"AvgSpeed\"])\n",
    "\n",
    "def nonNumericValues(df, colName):\n",
    "         \n",
    "        resultSet = df.select(colName).filter(\"TRIM({}) not rlike '^[0-9\\-]' \".format(colName)).distinct().collect()\n",
    "        return [x[colName] for x in resultSet]\n",
    "\n",
    "\n",
    "columnProperties = {}   \n",
    "for x in continuosColums:\n",
    "     l = nonNumericValues(weatherDS, x)\n",
    "     columnProperties[x] = {\"nonNumericValues\": l}   \n",
    "\n"
   ]
  },
  {
   "cell_type": "code",
   "execution_count": 8,
   "metadata": {},
   "outputs": [
    {
     "data": {
      "text/html": [
       "<div>\n",
       "<style>\n",
       "    .dataframe thead tr:only-child th {\n",
       "        text-align: right;\n",
       "    }\n",
       "\n",
       "    .dataframe thead th {\n",
       "        text-align: left;\n",
       "    }\n",
       "\n",
       "    .dataframe tbody tr th {\n",
       "        vertical-align: top;\n",
       "    }\n",
       "</style>\n",
       "<table border=\"1\" class=\"dataframe\">\n",
       "  <thead>\n",
       "    <tr style=\"text-align: right;\">\n",
       "      <th></th>\n",
       "      <th>AvgSpeed</th>\n",
       "      <th>Cool</th>\n",
       "      <th>Depart</th>\n",
       "      <th>Depth</th>\n",
       "      <th>DewPoint</th>\n",
       "      <th>Heat</th>\n",
       "      <th>PrecipTotal</th>\n",
       "      <th>ResultDir</th>\n",
       "      <th>ResultSpeed</th>\n",
       "      <th>SeaLevel</th>\n",
       "      <th>SnowFall</th>\n",
       "      <th>StnPressure</th>\n",
       "      <th>Sunrise</th>\n",
       "      <th>Sunset</th>\n",
       "      <th>Tavg</th>\n",
       "      <th>Tmax</th>\n",
       "      <th>Tmin</th>\n",
       "      <th>WetBulb</th>\n",
       "    </tr>\n",
       "  </thead>\n",
       "  <tbody>\n",
       "    <tr>\n",
       "      <th>nonNumericValues</th>\n",
       "      <td>[]</td>\n",
       "      <td>[]</td>\n",
       "      <td>[]</td>\n",
       "      <td>[]</td>\n",
       "      <td>[]</td>\n",
       "      <td>[]</td>\n",
       "      <td>[  T]</td>\n",
       "      <td>[]</td>\n",
       "      <td>[]</td>\n",
       "      <td>[M]</td>\n",
       "      <td>[  T]</td>\n",
       "      <td>[M]</td>\n",
       "      <td>[]</td>\n",
       "      <td>[]</td>\n",
       "      <td>[]</td>\n",
       "      <td>[]</td>\n",
       "      <td>[]</td>\n",
       "      <td>[M]</td>\n",
       "    </tr>\n",
       "  </tbody>\n",
       "</table>\n",
       "</div>"
      ],
      "text/plain": [
       "                 AvgSpeed Cool Depart Depth DewPoint Heat PrecipTotal  \\\n",
       "nonNumericValues       []   []     []    []       []   []       [  T]   \n",
       "\n",
       "                 ResultDir ResultSpeed SeaLevel SnowFall StnPressure Sunrise  \\\n",
       "nonNumericValues        []          []      [M]    [  T]         [M]      []   \n",
       "\n",
       "                 Sunset Tavg Tmax Tmin WetBulb  \n",
       "nonNumericValues     []   []   []   []     [M]  "
      ]
     },
     "execution_count": 8,
     "metadata": {},
     "output_type": "execute_result"
    }
   ],
   "source": [
    "import pandas as pd\n",
    "\n",
    "pd.DataFrame(columnProperties)"
   ]
  },
  {
   "cell_type": "markdown",
   "metadata": {},
   "source": [
    "The replacement stragegy is pretty simple:\n",
    "\n",
    "* We replace T with the minumn value ever recored \n",
    "* We replace M with the average for that month ( we could replace with the average for that week of the month or any other time interval )"
   ]
  },
  {
   "cell_type": "code",
   "execution_count": null,
   "metadata": {
    "collapsed": true
   },
   "outputs": [],
   "source": []
  },
  {
   "cell_type": "code",
   "execution_count": 9,
   "metadata": {
    "collapsed": true
   },
   "outputs": [],
   "source": [
    "from pyspark.sql.functions import col \n",
    "\n",
    "defaultCols = weatherDS.columns \n",
    "\n",
    "\n",
    "for columnName, properties in columnProperties.items() : \n",
    "    nonNumericValues = properties['nonNumericValues']\n",
    "    if(len(nonNumericValues)) != 0:\n",
    "         # Filter  needed\n",
    "         minVal = weatherDS.selectExpr(\"MIN(CAST( {} AS DOUBLE)) min_val\"\\\n",
    "                                       .format(columnName)).collect()[0]['min_val']\n",
    "            \n",
    "         weatherDS.createOrReplaceTempView(\"weatherDS\")   \n",
    "         avgValDF = sqlContext.sql(\"\"\"\n",
    "         SELECT \n",
    "         year,\n",
    "         month, \n",
    "         AVG({}) avg_val\n",
    "         FROM weatherDS \n",
    "         GROUP BY 1,2\n",
    "         \"\"\".format(columnName))\n",
    "         avgValDF = avgValDF.alias(\"avgValDF\")\n",
    "         weatherDS = weatherDS.join(avgValDF, (weatherDS.year == avgValDF.year) &\n",
    "                                   (weatherDS.month == avgValDF.month),\n",
    "                        \"left\").\\\n",
    "         selectExpr([\"weatherDS.*\" , \"\"\"CAST(CASE WHEN TRIM({0}) == 'T' THEN {1} \n",
    "                                WHEN TRIM({0}) == 'M' THEN avg_val\n",
    "                                ELSE TRIM({0})\n",
    "                                END AS DOUBLE\n",
    "                           ) new_{0}     \n",
    "                 \"\"\".format(columnName, minVal)\n",
    "                   ])\n",
    "         \n",
    "    else:\n",
    "        weatherDS = weatherDS.selectExpr([\"weatherDS.*\", \"CAST({0} AS DOUBLE) new_{0}\".format(columnName)])\n",
    "     \n",
    "    \n",
    "    weatherDS = weatherDS.drop(columnName).\\\n",
    "                 select([col(\"new_{}\".format(columnName)).alias(columnName) if x == columnName else x for x in defaultCols]) \n",
    "    weatherDS = weatherDS.alias(\"weatherDS\")\n",
    "    \n",
    "            \n",
    "\n"
   ]
  },
  {
   "cell_type": "code",
   "execution_count": 10,
   "metadata": {
    "collapsed": true
   },
   "outputs": [],
   "source": [
    "weatherDS = weatherDS.selectExpr([\"*\", \"CAST(Date as DATE) AS measureDate\"])\n",
    "weatherDS = weatherDS.alias(\"weatherDS\")\n"
   ]
  },
  {
   "cell_type": "code",
   "execution_count": 11,
   "metadata": {},
   "outputs": [
    {
     "name": "stdout",
     "output_type": "stream",
     "text": [
      "+-------+----------+----+----+----+------+--------+-------+----+----+-------+-------+-------------+-----+------+--------+-----------+-----------+--------+-----------+---------+--------+----+-----+-----------+\n",
      "|Station|      Date|Tmax|Tmin|Tavg|Depart|DewPoint|WetBulb|Heat|Cool|Sunrise| Sunset|      CodeSum|Depth|Water1|SnowFall|PrecipTotal|StnPressure|SeaLevel|ResultSpeed|ResultDir|AvgSpeed|year|month|measureDate|\n",
      "+-------+----------+----+----+----+------+--------+-------+----+----+-------+-------+-------------+-----+------+--------+-----------+-----------+--------+-----------+---------+--------+----+-----+-----------+\n",
      "|      1|2007-06-01|85.0|62.0|74.0|  10.0|    63.0|   66.0| 0.0| 9.0|15540.0|69600.0|   TSRA BR HZ|  0.0|     M|     0.0|       0.19|      29.19|   29.91|        4.2|     17.0|     6.4|2007|    6| 2007-06-01|\n",
      "|      1|2007-06-02|81.0|65.0|73.0|   9.0|    63.0|   67.0| 0.0| 8.0|15540.0|69600.0|        RA BR|  0.0|     M|     0.0|       0.04|      29.03|   29.77|        6.5|     22.0|     7.4|2007|    6| 2007-06-02|\n",
      "|      1|2007-06-03|78.0|62.0|70.0|   6.0|    60.0|   63.0| 0.0| 5.0|15480.0|69660.0|TSRA RA BR HZ|  0.0|     M|     0.0|       0.01|      28.82|   29.56|        5.2|     25.0|     6.7|2007|    6| 2007-06-03|\n",
      "|      1|2007-06-04|71.0|58.0|65.0|   1.0|    58.0|   60.0| 0.0| 0.0|15480.0|69720.0|   TSRA RA BR|  0.0|     M|     0.0|       0.39|      28.82|   29.52|        7.8|     31.0|     9.7|2007|    6| 2007-06-04|\n",
      "|      1|2007-06-05|64.0|47.0|56.0|  -9.0|    48.0|   51.0| 9.0| 0.0|15420.0|69780.0|        RA BR|  0.0|     M|     0.0|       0.42|       29.1|   29.79|        5.2|      5.0|     7.6|2007|    6| 2007-06-05|\n",
      "|      1|2007-06-06|71.0|44.0|58.0|  -8.0|    48.0|   55.0| 7.0| 0.0|15420.0|69780.0|           RA|  0.0|     M|     0.0|       0.01|      29.07|   29.81|       10.8|     17.0|    11.4|2007|    6| 2007-06-06|\n",
      "|      1|2007-06-07|91.0|71.0|81.0|  15.0|    62.0|   69.0| 0.0|16.0|15420.0|69840.0|             |  0.0|     M|     0.0|        0.0|      28.84|   29.55|       22.7|     20.0|    23.1|2007|    6| 2007-06-07|\n",
      "|      1|2007-06-08|81.0|57.0|69.0|   3.0|    53.0|   61.0| 0.0| 4.0|15420.0|69900.0|             |  0.0|     M|     0.0|        0.0|      29.18|   29.85|       10.9|     28.0|    13.8|2007|    6| 2007-06-08|\n",
      "|      1|2007-06-09|79.0|52.0|66.0|   0.0|    47.0|   57.0| 0.0| 1.0|15360.0|69900.0|             |  0.0|     M|     0.0|        0.0|      29.36|   30.07|        0.3|     33.0|     5.0|2007|    6| 2007-06-09|\n",
      "|      1|2007-06-10|81.0|55.0|68.0|   1.0|    51.0|   59.0| 0.0| 3.0|15360.0|69960.0|             |  0.0|     M|     0.0|        0.0|      29.34|   30.05|        4.8|     17.0|     5.6|2007|    6| 2007-06-10|\n",
      "|      1|2007-06-11|86.0|58.0|72.0|   5.0|    52.0|   61.0| 0.0| 7.0|15360.0|69960.0|             |  0.0|     M|     0.0|        0.0|      29.41|   30.11|        4.9|     11.0|     6.9|2007|    6| 2007-06-11|\n",
      "|      1|2007-06-12|83.0|62.0|73.0|   5.0|    50.0|   60.0| 0.0| 8.0|15360.0|70020.0|             |  0.0|     M|     0.0|        0.0|      29.44|   30.16|        8.3|      5.0|     8.8|2007|    6| 2007-06-12|\n",
      "|      1|2007-06-13|87.0|60.0|74.0|   6.0|    53.0|   62.0| 0.0| 9.0|15360.0|70020.0|             |  0.0|     M|     0.0|        0.0|      29.36|   30.09|        7.2|      5.0|     8.6|2007|    6| 2007-06-13|\n",
      "|      1|2007-06-14|89.0|64.0|77.0|   9.0|    55.0|   64.0| 0.0|12.0|15360.0|70080.0|             |  0.0|     M|     0.0|        0.0|       29.3|   30.02|        5.6|      5.0|     6.8|2007|    6| 2007-06-14|\n",
      "|      1|2007-06-15|91.0|63.0|77.0|   9.0|    56.0|   64.0| 0.0|12.0|15360.0|70080.0|             |  0.0|     M|     0.0|        0.0|      29.28|   29.99|        4.1|      6.0|     4.9|2007|    6| 2007-06-15|\n",
      "|      1|2007-06-16|93.0|66.0|80.0|  11.0|    60.0|   67.0| 0.0|15.0|15360.0|70140.0|        RA HZ|  0.0|     M|     0.0|        0.0|      29.26|   29.97|        4.8|     28.0|     5.8|2007|    6| 2007-06-16|\n",
      "|      1|2007-06-17|91.0|70.0|81.0|  12.0|    64.0|   70.0| 0.0|16.0|15360.0|70140.0|           HZ|  0.0|     M|     0.0|        0.0|      29.23|   29.95|        2.8|     11.0|     6.3|2007|    6| 2007-06-17|\n",
      "|      1|2007-06-18|89.0|69.0|79.0|   9.0|    65.0|   70.0| 0.0|14.0|15360.0|70140.0|   TSRA RA HZ|  0.0|     M|     0.0|       0.28|      29.12|   29.84|       14.0|     20.0|    15.1|2007|    6| 2007-06-18|\n",
      "|      1|2007-06-19|80.0|65.0|73.0|   3.0|    55.0|   63.0| 0.0| 8.0|15360.0|70200.0|           RA|  0.0|     M|     0.0|       0.58|      29.26|   29.95|       10.7|     28.0|    11.4|2007|    6| 2007-06-19|\n",
      "|      1|2007-06-20|84.0|61.0|73.0|   3.0|    52.0|   61.0| 0.0| 8.0|15360.0|70200.0|             |  0.0|     M|     0.0|        0.0|      29.39|    30.1|        7.8|     27.0|     8.8|2007|    6| 2007-06-20|\n",
      "+-------+----------+----+----+----+------+--------+-------+----+----+-------+-------+-------------+-----+------+--------+-----------+-----------+--------+-----------+---------+--------+----+-----+-----------+\n",
      "only showing top 20 rows\n",
      "\n"
     ]
    }
   ],
   "source": [
    "weatherDS.show()"
   ]
  },
  {
   "cell_type": "code",
   "execution_count": 27,
   "metadata": {},
   "outputs": [],
   "source": [
    "from pyspark.sql import Window\n",
    "from pyspark.sql.functions import lag, avg\n",
    "\n",
    "lagWindow = Window.partitionBy(\"Station\").orderBy(\"measureDate\")\n",
    "\n",
    "queryParts = []\n",
    "\n",
    "for columnName in continuosColums:\n",
    "    queryParts.append(\"AVG({0}) avg_val_{0}\".format(columnName))            \n",
    "\n",
    "\n",
    "    \n",
    "avgValDF = sqlContext.sql(\"\"\"\n",
    "                 SELECT \n",
    "                 year,\n",
    "                 month, \n",
    "                 {}\n",
    "                 FROM weatherDS \n",
    "                 GROUP BY 1,2\n",
    "                 \"\"\".format(\",\".join(queryParts)\n",
    "                           )\n",
    "                )\n",
    "avgValDF = avgValDF.alias(\"avgValDF\")\n",
    "    "
   ]
  },
  {
   "cell_type": "code",
   "execution_count": 32,
   "metadata": {},
   "outputs": [
    {
     "name": "stdout",
     "output_type": "stream",
     "text": [
      "['weatherDS.*', 'CASE WHEN Depart_lag_1 IS NULL THEN avgValDF.avg_val_Depart ELSE Depart_lag_1 END as Depart_lag_1', 'CASE WHEN Depart_lag_1 IS NULL THEN avgValDF.avg_val_Depart ELSE Depart_lag_3 END as Depart_lag_3', 'CASE WHEN Depart_lag_1 IS NULL THEN avgValDF.avg_val_Depart ELSE Depart_lag_8 END as Depart_lag_8', 'CASE WHEN Depart_lag_1 IS NULL THEN avgValDF.avg_val_Depart ELSE Depart_lag_12 END as Depart_lag_12', 'CASE WHEN AvgSpeed_lag_1 IS NULL THEN avgValDF.avg_val_AvgSpeed ELSE AvgSpeed_lag_1 END as AvgSpeed_lag_1', 'CASE WHEN AvgSpeed_lag_1 IS NULL THEN avgValDF.avg_val_AvgSpeed ELSE AvgSpeed_lag_3 END as AvgSpeed_lag_3', 'CASE WHEN AvgSpeed_lag_1 IS NULL THEN avgValDF.avg_val_AvgSpeed ELSE AvgSpeed_lag_8 END as AvgSpeed_lag_8', 'CASE WHEN AvgSpeed_lag_1 IS NULL THEN avgValDF.avg_val_AvgSpeed ELSE AvgSpeed_lag_12 END as AvgSpeed_lag_12', 'CASE WHEN Sunset_lag_1 IS NULL THEN avgValDF.avg_val_Sunset ELSE Sunset_lag_1 END as Sunset_lag_1', 'CASE WHEN Sunset_lag_1 IS NULL THEN avgValDF.avg_val_Sunset ELSE Sunset_lag_3 END as Sunset_lag_3', 'CASE WHEN Sunset_lag_1 IS NULL THEN avgValDF.avg_val_Sunset ELSE Sunset_lag_8 END as Sunset_lag_8', 'CASE WHEN Sunset_lag_1 IS NULL THEN avgValDF.avg_val_Sunset ELSE Sunset_lag_12 END as Sunset_lag_12', 'CASE WHEN WetBulb_lag_1 IS NULL THEN avgValDF.avg_val_WetBulb ELSE WetBulb_lag_1 END as WetBulb_lag_1', 'CASE WHEN WetBulb_lag_1 IS NULL THEN avgValDF.avg_val_WetBulb ELSE WetBulb_lag_3 END as WetBulb_lag_3', 'CASE WHEN WetBulb_lag_1 IS NULL THEN avgValDF.avg_val_WetBulb ELSE WetBulb_lag_8 END as WetBulb_lag_8', 'CASE WHEN WetBulb_lag_1 IS NULL THEN avgValDF.avg_val_WetBulb ELSE WetBulb_lag_12 END as WetBulb_lag_12', 'CASE WHEN Tmax_lag_1 IS NULL THEN avgValDF.avg_val_Tmax ELSE Tmax_lag_1 END as Tmax_lag_1', 'CASE WHEN Tmax_lag_1 IS NULL THEN avgValDF.avg_val_Tmax ELSE Tmax_lag_3 END as Tmax_lag_3', 'CASE WHEN Tmax_lag_1 IS NULL THEN avgValDF.avg_val_Tmax ELSE Tmax_lag_8 END as Tmax_lag_8', 'CASE WHEN Tmax_lag_1 IS NULL THEN avgValDF.avg_val_Tmax ELSE Tmax_lag_12 END as Tmax_lag_12', 'CASE WHEN Tavg_lag_1 IS NULL THEN avgValDF.avg_val_Tavg ELSE Tavg_lag_1 END as Tavg_lag_1', 'CASE WHEN Tavg_lag_1 IS NULL THEN avgValDF.avg_val_Tavg ELSE Tavg_lag_3 END as Tavg_lag_3', 'CASE WHEN Tavg_lag_1 IS NULL THEN avgValDF.avg_val_Tavg ELSE Tavg_lag_8 END as Tavg_lag_8', 'CASE WHEN Tavg_lag_1 IS NULL THEN avgValDF.avg_val_Tavg ELSE Tavg_lag_12 END as Tavg_lag_12', 'CASE WHEN Heat_lag_1 IS NULL THEN avgValDF.avg_val_Heat ELSE Heat_lag_1 END as Heat_lag_1', 'CASE WHEN Heat_lag_1 IS NULL THEN avgValDF.avg_val_Heat ELSE Heat_lag_3 END as Heat_lag_3', 'CASE WHEN Heat_lag_1 IS NULL THEN avgValDF.avg_val_Heat ELSE Heat_lag_8 END as Heat_lag_8', 'CASE WHEN Heat_lag_1 IS NULL THEN avgValDF.avg_val_Heat ELSE Heat_lag_12 END as Heat_lag_12', 'CASE WHEN Sunrise_lag_1 IS NULL THEN avgValDF.avg_val_Sunrise ELSE Sunrise_lag_1 END as Sunrise_lag_1', 'CASE WHEN Sunrise_lag_1 IS NULL THEN avgValDF.avg_val_Sunrise ELSE Sunrise_lag_3 END as Sunrise_lag_3', 'CASE WHEN Sunrise_lag_1 IS NULL THEN avgValDF.avg_val_Sunrise ELSE Sunrise_lag_8 END as Sunrise_lag_8', 'CASE WHEN Sunrise_lag_1 IS NULL THEN avgValDF.avg_val_Sunrise ELSE Sunrise_lag_12 END as Sunrise_lag_12', 'CASE WHEN ResultSpeed_lag_1 IS NULL THEN avgValDF.avg_val_ResultSpeed ELSE ResultSpeed_lag_1 END as ResultSpeed_lag_1', 'CASE WHEN ResultSpeed_lag_1 IS NULL THEN avgValDF.avg_val_ResultSpeed ELSE ResultSpeed_lag_3 END as ResultSpeed_lag_3', 'CASE WHEN ResultSpeed_lag_1 IS NULL THEN avgValDF.avg_val_ResultSpeed ELSE ResultSpeed_lag_8 END as ResultSpeed_lag_8', 'CASE WHEN ResultSpeed_lag_1 IS NULL THEN avgValDF.avg_val_ResultSpeed ELSE ResultSpeed_lag_12 END as ResultSpeed_lag_12', 'CASE WHEN SeaLevel_lag_1 IS NULL THEN avgValDF.avg_val_SeaLevel ELSE SeaLevel_lag_1 END as SeaLevel_lag_1', 'CASE WHEN SeaLevel_lag_1 IS NULL THEN avgValDF.avg_val_SeaLevel ELSE SeaLevel_lag_3 END as SeaLevel_lag_3', 'CASE WHEN SeaLevel_lag_1 IS NULL THEN avgValDF.avg_val_SeaLevel ELSE SeaLevel_lag_8 END as SeaLevel_lag_8', 'CASE WHEN SeaLevel_lag_1 IS NULL THEN avgValDF.avg_val_SeaLevel ELSE SeaLevel_lag_12 END as SeaLevel_lag_12', 'CASE WHEN ResultDir_lag_1 IS NULL THEN avgValDF.avg_val_ResultDir ELSE ResultDir_lag_1 END as ResultDir_lag_1', 'CASE WHEN ResultDir_lag_1 IS NULL THEN avgValDF.avg_val_ResultDir ELSE ResultDir_lag_3 END as ResultDir_lag_3', 'CASE WHEN ResultDir_lag_1 IS NULL THEN avgValDF.avg_val_ResultDir ELSE ResultDir_lag_8 END as ResultDir_lag_8', 'CASE WHEN ResultDir_lag_1 IS NULL THEN avgValDF.avg_val_ResultDir ELSE ResultDir_lag_12 END as ResultDir_lag_12', 'CASE WHEN SnowFall_lag_1 IS NULL THEN avgValDF.avg_val_SnowFall ELSE SnowFall_lag_1 END as SnowFall_lag_1', 'CASE WHEN SnowFall_lag_1 IS NULL THEN avgValDF.avg_val_SnowFall ELSE SnowFall_lag_3 END as SnowFall_lag_3', 'CASE WHEN SnowFall_lag_1 IS NULL THEN avgValDF.avg_val_SnowFall ELSE SnowFall_lag_8 END as SnowFall_lag_8', 'CASE WHEN SnowFall_lag_1 IS NULL THEN avgValDF.avg_val_SnowFall ELSE SnowFall_lag_12 END as SnowFall_lag_12', 'CASE WHEN Tmin_lag_1 IS NULL THEN avgValDF.avg_val_Tmin ELSE Tmin_lag_1 END as Tmin_lag_1', 'CASE WHEN Tmin_lag_1 IS NULL THEN avgValDF.avg_val_Tmin ELSE Tmin_lag_3 END as Tmin_lag_3', 'CASE WHEN Tmin_lag_1 IS NULL THEN avgValDF.avg_val_Tmin ELSE Tmin_lag_8 END as Tmin_lag_8', 'CASE WHEN Tmin_lag_1 IS NULL THEN avgValDF.avg_val_Tmin ELSE Tmin_lag_12 END as Tmin_lag_12', 'CASE WHEN PrecipTotal_lag_1 IS NULL THEN avgValDF.avg_val_PrecipTotal ELSE PrecipTotal_lag_1 END as PrecipTotal_lag_1', 'CASE WHEN PrecipTotal_lag_1 IS NULL THEN avgValDF.avg_val_PrecipTotal ELSE PrecipTotal_lag_3 END as PrecipTotal_lag_3', 'CASE WHEN PrecipTotal_lag_1 IS NULL THEN avgValDF.avg_val_PrecipTotal ELSE PrecipTotal_lag_8 END as PrecipTotal_lag_8', 'CASE WHEN PrecipTotal_lag_1 IS NULL THEN avgValDF.avg_val_PrecipTotal ELSE PrecipTotal_lag_12 END as PrecipTotal_lag_12', 'CASE WHEN Depth_lag_1 IS NULL THEN avgValDF.avg_val_Depth ELSE Depth_lag_1 END as Depth_lag_1', 'CASE WHEN Depth_lag_1 IS NULL THEN avgValDF.avg_val_Depth ELSE Depth_lag_3 END as Depth_lag_3', 'CASE WHEN Depth_lag_1 IS NULL THEN avgValDF.avg_val_Depth ELSE Depth_lag_8 END as Depth_lag_8', 'CASE WHEN Depth_lag_1 IS NULL THEN avgValDF.avg_val_Depth ELSE Depth_lag_12 END as Depth_lag_12', 'CASE WHEN DewPoint_lag_1 IS NULL THEN avgValDF.avg_val_DewPoint ELSE DewPoint_lag_1 END as DewPoint_lag_1', 'CASE WHEN DewPoint_lag_1 IS NULL THEN avgValDF.avg_val_DewPoint ELSE DewPoint_lag_3 END as DewPoint_lag_3', 'CASE WHEN DewPoint_lag_1 IS NULL THEN avgValDF.avg_val_DewPoint ELSE DewPoint_lag_8 END as DewPoint_lag_8', 'CASE WHEN DewPoint_lag_1 IS NULL THEN avgValDF.avg_val_DewPoint ELSE DewPoint_lag_12 END as DewPoint_lag_12', 'CASE WHEN Cool_lag_1 IS NULL THEN avgValDF.avg_val_Cool ELSE Cool_lag_1 END as Cool_lag_1', 'CASE WHEN Cool_lag_1 IS NULL THEN avgValDF.avg_val_Cool ELSE Cool_lag_3 END as Cool_lag_3', 'CASE WHEN Cool_lag_1 IS NULL THEN avgValDF.avg_val_Cool ELSE Cool_lag_8 END as Cool_lag_8', 'CASE WHEN Cool_lag_1 IS NULL THEN avgValDF.avg_val_Cool ELSE Cool_lag_12 END as Cool_lag_12', 'CASE WHEN StnPressure_lag_1 IS NULL THEN avgValDF.avg_val_StnPressure ELSE StnPressure_lag_1 END as StnPressure_lag_1', 'CASE WHEN StnPressure_lag_1 IS NULL THEN avgValDF.avg_val_StnPressure ELSE StnPressure_lag_3 END as StnPressure_lag_3', 'CASE WHEN StnPressure_lag_1 IS NULL THEN avgValDF.avg_val_StnPressure ELSE StnPressure_lag_8 END as StnPressure_lag_8', 'CASE WHEN StnPressure_lag_1 IS NULL THEN avgValDF.avg_val_StnPressure ELSE StnPressure_lag_12 END as StnPressure_lag_12']\n"
     ]
    }
   ],
   "source": [
    "selectParts = [\"*\"]\n",
    "selectExpParts = [\"weatherDS.*\" ]\n",
    "for columnName in continuosColums:\n",
    "    for lagLevel in [1, 3, 8, 12]:\n",
    "        selectParts.append(lag(columnName, 1).over(lagWindow).alias(\"{0}_lag_{1}\".format(columnName, lagLevel)))\n",
    "        selectExpParts.append(\"CASE WHEN {0}_lag_1 IS NULL THEN avgValDF.avg_val_{0} ELSE {0}_lag_{1} END as {0}_lag_{1}\".format(columnName, lagLevel))\n",
    "\n",
    "        \n",
    "        \n",
    "print(selectExpParts)\n",
    "\n"
   ]
  },
  {
   "cell_type": "code",
   "execution_count": 33,
   "metadata": {},
   "outputs": [
    {
     "name": "stdout",
     "output_type": "stream",
     "text": [
      "+-------+----------+----+----+----+------+--------+-------+----+----+-------+-------+-------------+-----+------+--------+-----------+-----------+--------+-----------+---------+--------+----+-----+-----------+------------+------------+------------+-------------+--------------+--------------+--------------+---------------+------------+------------+------------+-------------+-------------+-------------+-------------+--------------+----------+----------+----------+-----------+----------+----------+----------+-----------+----------+----------+----------+-----------+-------------+-------------+-------------+--------------+-----------------+-----------------+-----------------+------------------+--------------+--------------+--------------+---------------+---------------+---------------+---------------+----------------+--------------+--------------+--------------+---------------+----------+----------+----------+-----------+-----------------+-----------------+-----------------+------------------+-----------+-----------+-----------+------------+--------------+--------------+--------------+---------------+----------+----------+----------+-----------+-----------------+-----------------+-----------------+------------------+\n",
      "|Station|      Date|Tmax|Tmin|Tavg|Depart|DewPoint|WetBulb|Heat|Cool|Sunrise| Sunset|      CodeSum|Depth|Water1|SnowFall|PrecipTotal|StnPressure|SeaLevel|ResultSpeed|ResultDir|AvgSpeed|year|month|measureDate|Depart_lag_1|Depart_lag_3|Depart_lag_8|Depart_lag_12|AvgSpeed_lag_1|AvgSpeed_lag_3|AvgSpeed_lag_8|AvgSpeed_lag_12|Sunset_lag_1|Sunset_lag_3|Sunset_lag_8|Sunset_lag_12|WetBulb_lag_1|WetBulb_lag_3|WetBulb_lag_8|WetBulb_lag_12|Tmax_lag_1|Tmax_lag_3|Tmax_lag_8|Tmax_lag_12|Tavg_lag_1|Tavg_lag_3|Tavg_lag_8|Tavg_lag_12|Heat_lag_1|Heat_lag_3|Heat_lag_8|Heat_lag_12|Sunrise_lag_1|Sunrise_lag_3|Sunrise_lag_8|Sunrise_lag_12|ResultSpeed_lag_1|ResultSpeed_lag_3|ResultSpeed_lag_8|ResultSpeed_lag_12|SeaLevel_lag_1|SeaLevel_lag_3|SeaLevel_lag_8|SeaLevel_lag_12|ResultDir_lag_1|ResultDir_lag_3|ResultDir_lag_8|ResultDir_lag_12|SnowFall_lag_1|SnowFall_lag_3|SnowFall_lag_8|SnowFall_lag_12|Tmin_lag_1|Tmin_lag_3|Tmin_lag_8|Tmin_lag_12|PrecipTotal_lag_1|PrecipTotal_lag_3|PrecipTotal_lag_8|PrecipTotal_lag_12|Depth_lag_1|Depth_lag_3|Depth_lag_8|Depth_lag_12|DewPoint_lag_1|DewPoint_lag_3|DewPoint_lag_8|DewPoint_lag_12|Cool_lag_1|Cool_lag_3|Cool_lag_8|Cool_lag_12|StnPressure_lag_1|StnPressure_lag_3|StnPressure_lag_8|StnPressure_lag_12|\n",
      "+-------+----------+----+----+----+------+--------+-------+----+----+-------+-------+-------------+-----+------+--------+-----------+-----------+--------+-----------+---------+--------+----+-----+-----------+------------+------------+------------+-------------+--------------+--------------+--------------+---------------+------------+------------+------------+-------------+-------------+-------------+-------------+--------------+----------+----------+----------+-----------+----------+----------+----------+-----------+----------+----------+----------+-----------+-------------+-------------+-------------+--------------+-----------------+-----------------+-----------------+------------------+--------------+--------------+--------------+---------------+---------------+---------------+---------------+----------------+--------------+--------------+--------------+---------------+----------+----------+----------+-----------+-----------------+-----------------+-----------------+------------------+-----------+-----------+-----------+------------+--------------+--------------+--------------+---------------+----------+----------+----------+-----------+-----------------+-----------------+-----------------+------------------+\n",
      "|      1|2007-06-01|85.0|62.0|74.0|  10.0|    63.0|   66.0| 0.0| 9.0|15540.0|69600.0|   TSRA BR HZ|  0.0|     M|     0.0|       0.19|      29.19|   29.91|        4.2|     17.0|     6.4|2007|    6| 2007-06-01|         8.0|         8.0|         8.0|          8.0|           9.9|           9.9|           9.9|            9.9|     69540.0|     69540.0|     69540.0|      69540.0|         65.0|         65.0|         65.0|          65.0|      78.0|      78.0|      78.0|       78.0|      72.0|      72.0|      72.0|       72.0|       0.0|       0.0|       0.0|        0.0|      15600.0|      15600.0|      15600.0|       15600.0|              9.3|              9.3|              9.3|               9.3|          30.0|          30.0|          30.0|           30.0|           19.0|           19.0|           19.0|            19.0|           0.0|           0.0|           0.0|            0.0|      65.0|      65.0|      65.0|       65.0|             0.01|             0.01|             0.01|              0.01|        0.0|        0.0|        0.0|         0.0|          61.0|          61.0|          61.0|           61.0|       7.0|       7.0|       7.0|        7.0|            29.28|            29.28|            29.28|             29.28|\n",
      "|      1|2007-06-02|81.0|65.0|73.0|   9.0|    63.0|   67.0| 0.0| 8.0|15540.0|69600.0|        RA BR|  0.0|     M|     0.0|       0.04|      29.03|   29.77|        6.5|     22.0|     7.4|2007|    6| 2007-06-02|        10.0|        10.0|        10.0|         10.0|           6.4|           6.4|           6.4|            6.4|     69600.0|     69600.0|     69600.0|      69600.0|         66.0|         66.0|         66.0|          66.0|      85.0|      85.0|      85.0|       85.0|      74.0|      74.0|      74.0|       74.0|       0.0|       0.0|       0.0|        0.0|      15540.0|      15540.0|      15540.0|       15540.0|              4.2|              4.2|              4.2|               4.2|         29.91|         29.91|         29.91|          29.91|           17.0|           17.0|           17.0|            17.0|           0.0|           0.0|           0.0|            0.0|      62.0|      62.0|      62.0|       62.0|             0.19|             0.19|             0.19|              0.19|        0.0|        0.0|        0.0|         0.0|          63.0|          63.0|          63.0|           63.0|       9.0|       9.0|       9.0|        9.0|            29.19|            29.19|            29.19|             29.19|\n",
      "|      1|2007-06-03|78.0|62.0|70.0|   6.0|    60.0|   63.0| 0.0| 5.0|15480.0|69660.0|TSRA RA BR HZ|  0.0|     M|     0.0|       0.01|      28.82|   29.56|        5.2|     25.0|     6.7|2007|    6| 2007-06-03|         9.0|         9.0|         9.0|          9.0|           7.4|           7.4|           7.4|            7.4|     69600.0|     69600.0|     69600.0|      69600.0|         67.0|         67.0|         67.0|          67.0|      81.0|      81.0|      81.0|       81.0|      73.0|      73.0|      73.0|       73.0|       0.0|       0.0|       0.0|        0.0|      15540.0|      15540.0|      15540.0|       15540.0|              6.5|              6.5|              6.5|               6.5|         29.77|         29.77|         29.77|          29.77|           22.0|           22.0|           22.0|            22.0|           0.0|           0.0|           0.0|            0.0|      65.0|      65.0|      65.0|       65.0|             0.04|             0.04|             0.04|              0.04|        0.0|        0.0|        0.0|         0.0|          63.0|          63.0|          63.0|           63.0|       8.0|       8.0|       8.0|        8.0|            29.03|            29.03|            29.03|             29.03|\n",
      "|      1|2007-06-04|71.0|58.0|65.0|   1.0|    58.0|   60.0| 0.0| 0.0|15480.0|69720.0|   TSRA RA BR|  0.0|     M|     0.0|       0.39|      28.82|   29.52|        7.8|     31.0|     9.7|2007|    6| 2007-06-04|         6.0|         6.0|         6.0|          6.0|           6.7|           6.7|           6.7|            6.7|     69660.0|     69660.0|     69660.0|      69660.0|         63.0|         63.0|         63.0|          63.0|      78.0|      78.0|      78.0|       78.0|      70.0|      70.0|      70.0|       70.0|       0.0|       0.0|       0.0|        0.0|      15480.0|      15480.0|      15480.0|       15480.0|              5.2|              5.2|              5.2|               5.2|         29.56|         29.56|         29.56|          29.56|           25.0|           25.0|           25.0|            25.0|           0.0|           0.0|           0.0|            0.0|      62.0|      62.0|      62.0|       62.0|             0.01|             0.01|             0.01|              0.01|        0.0|        0.0|        0.0|         0.0|          60.0|          60.0|          60.0|           60.0|       5.0|       5.0|       5.0|        5.0|            28.82|            28.82|            28.82|             28.82|\n",
      "|      1|2007-06-05|64.0|47.0|56.0|  -9.0|    48.0|   51.0| 9.0| 0.0|15420.0|69780.0|        RA BR|  0.0|     M|     0.0|       0.42|       29.1|   29.79|        5.2|      5.0|     7.6|2007|    6| 2007-06-05|         1.0|         1.0|         1.0|          1.0|           9.7|           9.7|           9.7|            9.7|     69720.0|     69720.0|     69720.0|      69720.0|         60.0|         60.0|         60.0|          60.0|      71.0|      71.0|      71.0|       71.0|      65.0|      65.0|      65.0|       65.0|       0.0|       0.0|       0.0|        0.0|      15480.0|      15480.0|      15480.0|       15480.0|              7.8|              7.8|              7.8|               7.8|         29.52|         29.52|         29.52|          29.52|           31.0|           31.0|           31.0|            31.0|           0.0|           0.0|           0.0|            0.0|      58.0|      58.0|      58.0|       58.0|             0.39|             0.39|             0.39|              0.39|        0.0|        0.0|        0.0|         0.0|          58.0|          58.0|          58.0|           58.0|       0.0|       0.0|       0.0|        0.0|            28.82|            28.82|            28.82|             28.82|\n",
      "|      1|2007-06-06|71.0|44.0|58.0|  -8.0|    48.0|   55.0| 7.0| 0.0|15420.0|69780.0|           RA|  0.0|     M|     0.0|       0.01|      29.07|   29.81|       10.8|     17.0|    11.4|2007|    6| 2007-06-06|        -9.0|        -9.0|        -9.0|         -9.0|           7.6|           7.6|           7.6|            7.6|     69780.0|     69780.0|     69780.0|      69780.0|         51.0|         51.0|         51.0|          51.0|      64.0|      64.0|      64.0|       64.0|      56.0|      56.0|      56.0|       56.0|       9.0|       9.0|       9.0|        9.0|      15420.0|      15420.0|      15420.0|       15420.0|              5.2|              5.2|              5.2|               5.2|         29.79|         29.79|         29.79|          29.79|            5.0|            5.0|            5.0|             5.0|           0.0|           0.0|           0.0|            0.0|      47.0|      47.0|      47.0|       47.0|             0.42|             0.42|             0.42|              0.42|        0.0|        0.0|        0.0|         0.0|          48.0|          48.0|          48.0|           48.0|       0.0|       0.0|       0.0|        0.0|             29.1|             29.1|             29.1|              29.1|\n",
      "|      1|2007-06-07|91.0|71.0|81.0|  15.0|    62.0|   69.0| 0.0|16.0|15420.0|69840.0|             |  0.0|     M|     0.0|        0.0|      28.84|   29.55|       22.7|     20.0|    23.1|2007|    6| 2007-06-07|        -8.0|        -8.0|        -8.0|         -8.0|          11.4|          11.4|          11.4|           11.4|     69780.0|     69780.0|     69780.0|      69780.0|         55.0|         55.0|         55.0|          55.0|      71.0|      71.0|      71.0|       71.0|      58.0|      58.0|      58.0|       58.0|       7.0|       7.0|       7.0|        7.0|      15420.0|      15420.0|      15420.0|       15420.0|             10.8|             10.8|             10.8|              10.8|         29.81|         29.81|         29.81|          29.81|           17.0|           17.0|           17.0|            17.0|           0.0|           0.0|           0.0|            0.0|      44.0|      44.0|      44.0|       44.0|             0.01|             0.01|             0.01|              0.01|        0.0|        0.0|        0.0|         0.0|          48.0|          48.0|          48.0|           48.0|       0.0|       0.0|       0.0|        0.0|            29.07|            29.07|            29.07|             29.07|\n",
      "|      1|2007-06-08|81.0|57.0|69.0|   3.0|    53.0|   61.0| 0.0| 4.0|15420.0|69900.0|             |  0.0|     M|     0.0|        0.0|      29.18|   29.85|       10.9|     28.0|    13.8|2007|    6| 2007-06-08|        15.0|        15.0|        15.0|         15.0|          23.1|          23.1|          23.1|           23.1|     69840.0|     69840.0|     69840.0|      69840.0|         69.0|         69.0|         69.0|          69.0|      91.0|      91.0|      91.0|       91.0|      81.0|      81.0|      81.0|       81.0|       0.0|       0.0|       0.0|        0.0|      15420.0|      15420.0|      15420.0|       15420.0|             22.7|             22.7|             22.7|              22.7|         29.55|         29.55|         29.55|          29.55|           20.0|           20.0|           20.0|            20.0|           0.0|           0.0|           0.0|            0.0|      71.0|      71.0|      71.0|       71.0|              0.0|              0.0|              0.0|               0.0|        0.0|        0.0|        0.0|         0.0|          62.0|          62.0|          62.0|           62.0|      16.0|      16.0|      16.0|       16.0|            28.84|            28.84|            28.84|             28.84|\n",
      "|      1|2007-06-09|79.0|52.0|66.0|   0.0|    47.0|   57.0| 0.0| 1.0|15360.0|69900.0|             |  0.0|     M|     0.0|        0.0|      29.36|   30.07|        0.3|     33.0|     5.0|2007|    6| 2007-06-09|         3.0|         3.0|         3.0|          3.0|          13.8|          13.8|          13.8|           13.8|     69900.0|     69900.0|     69900.0|      69900.0|         61.0|         61.0|         61.0|          61.0|      81.0|      81.0|      81.0|       81.0|      69.0|      69.0|      69.0|       69.0|       0.0|       0.0|       0.0|        0.0|      15420.0|      15420.0|      15420.0|       15420.0|             10.9|             10.9|             10.9|              10.9|         29.85|         29.85|         29.85|          29.85|           28.0|           28.0|           28.0|            28.0|           0.0|           0.0|           0.0|            0.0|      57.0|      57.0|      57.0|       57.0|              0.0|              0.0|              0.0|               0.0|        0.0|        0.0|        0.0|         0.0|          53.0|          53.0|          53.0|           53.0|       4.0|       4.0|       4.0|        4.0|            29.18|            29.18|            29.18|             29.18|\n",
      "|      1|2007-06-10|81.0|55.0|68.0|   1.0|    51.0|   59.0| 0.0| 3.0|15360.0|69960.0|             |  0.0|     M|     0.0|        0.0|      29.34|   30.05|        4.8|     17.0|     5.6|2007|    6| 2007-06-10|         0.0|         0.0|         0.0|          0.0|           5.0|           5.0|           5.0|            5.0|     69900.0|     69900.0|     69900.0|      69900.0|         57.0|         57.0|         57.0|          57.0|      79.0|      79.0|      79.0|       79.0|      66.0|      66.0|      66.0|       66.0|       0.0|       0.0|       0.0|        0.0|      15360.0|      15360.0|      15360.0|       15360.0|              0.3|              0.3|              0.3|               0.3|         30.07|         30.07|         30.07|          30.07|           33.0|           33.0|           33.0|            33.0|           0.0|           0.0|           0.0|            0.0|      52.0|      52.0|      52.0|       52.0|              0.0|              0.0|              0.0|               0.0|        0.0|        0.0|        0.0|         0.0|          47.0|          47.0|          47.0|           47.0|       1.0|       1.0|       1.0|        1.0|            29.36|            29.36|            29.36|             29.36|\n",
      "|      1|2007-06-11|86.0|58.0|72.0|   5.0|    52.0|   61.0| 0.0| 7.0|15360.0|69960.0|             |  0.0|     M|     0.0|        0.0|      29.41|   30.11|        4.9|     11.0|     6.9|2007|    6| 2007-06-11|         1.0|         1.0|         1.0|          1.0|           5.6|           5.6|           5.6|            5.6|     69960.0|     69960.0|     69960.0|      69960.0|         59.0|         59.0|         59.0|          59.0|      81.0|      81.0|      81.0|       81.0|      68.0|      68.0|      68.0|       68.0|       0.0|       0.0|       0.0|        0.0|      15360.0|      15360.0|      15360.0|       15360.0|              4.8|              4.8|              4.8|               4.8|         30.05|         30.05|         30.05|          30.05|           17.0|           17.0|           17.0|            17.0|           0.0|           0.0|           0.0|            0.0|      55.0|      55.0|      55.0|       55.0|              0.0|              0.0|              0.0|               0.0|        0.0|        0.0|        0.0|         0.0|          51.0|          51.0|          51.0|           51.0|       3.0|       3.0|       3.0|        3.0|            29.34|            29.34|            29.34|             29.34|\n",
      "|      1|2007-06-12|83.0|62.0|73.0|   5.0|    50.0|   60.0| 0.0| 8.0|15360.0|70020.0|             |  0.0|     M|     0.0|        0.0|      29.44|   30.16|        8.3|      5.0|     8.8|2007|    6| 2007-06-12|         5.0|         5.0|         5.0|          5.0|           6.9|           6.9|           6.9|            6.9|     69960.0|     69960.0|     69960.0|      69960.0|         61.0|         61.0|         61.0|          61.0|      86.0|      86.0|      86.0|       86.0|      72.0|      72.0|      72.0|       72.0|       0.0|       0.0|       0.0|        0.0|      15360.0|      15360.0|      15360.0|       15360.0|              4.9|              4.9|              4.9|               4.9|         30.11|         30.11|         30.11|          30.11|           11.0|           11.0|           11.0|            11.0|           0.0|           0.0|           0.0|            0.0|      58.0|      58.0|      58.0|       58.0|              0.0|              0.0|              0.0|               0.0|        0.0|        0.0|        0.0|         0.0|          52.0|          52.0|          52.0|           52.0|       7.0|       7.0|       7.0|        7.0|            29.41|            29.41|            29.41|             29.41|\n",
      "|      1|2007-06-13|87.0|60.0|74.0|   6.0|    53.0|   62.0| 0.0| 9.0|15360.0|70020.0|             |  0.0|     M|     0.0|        0.0|      29.36|   30.09|        7.2|      5.0|     8.6|2007|    6| 2007-06-13|         5.0|         5.0|         5.0|          5.0|           8.8|           8.8|           8.8|            8.8|     70020.0|     70020.0|     70020.0|      70020.0|         60.0|         60.0|         60.0|          60.0|      83.0|      83.0|      83.0|       83.0|      73.0|      73.0|      73.0|       73.0|       0.0|       0.0|       0.0|        0.0|      15360.0|      15360.0|      15360.0|       15360.0|              8.3|              8.3|              8.3|               8.3|         30.16|         30.16|         30.16|          30.16|            5.0|            5.0|            5.0|             5.0|           0.0|           0.0|           0.0|            0.0|      62.0|      62.0|      62.0|       62.0|              0.0|              0.0|              0.0|               0.0|        0.0|        0.0|        0.0|         0.0|          50.0|          50.0|          50.0|           50.0|       8.0|       8.0|       8.0|        8.0|            29.44|            29.44|            29.44|             29.44|\n",
      "|      1|2007-06-14|89.0|64.0|77.0|   9.0|    55.0|   64.0| 0.0|12.0|15360.0|70080.0|             |  0.0|     M|     0.0|        0.0|       29.3|   30.02|        5.6|      5.0|     6.8|2007|    6| 2007-06-14|         6.0|         6.0|         6.0|          6.0|           8.6|           8.6|           8.6|            8.6|     70020.0|     70020.0|     70020.0|      70020.0|         62.0|         62.0|         62.0|          62.0|      87.0|      87.0|      87.0|       87.0|      74.0|      74.0|      74.0|       74.0|       0.0|       0.0|       0.0|        0.0|      15360.0|      15360.0|      15360.0|       15360.0|              7.2|              7.2|              7.2|               7.2|         30.09|         30.09|         30.09|          30.09|            5.0|            5.0|            5.0|             5.0|           0.0|           0.0|           0.0|            0.0|      60.0|      60.0|      60.0|       60.0|              0.0|              0.0|              0.0|               0.0|        0.0|        0.0|        0.0|         0.0|          53.0|          53.0|          53.0|           53.0|       9.0|       9.0|       9.0|        9.0|            29.36|            29.36|            29.36|             29.36|\n",
      "|      1|2007-06-15|91.0|63.0|77.0|   9.0|    56.0|   64.0| 0.0|12.0|15360.0|70080.0|             |  0.0|     M|     0.0|        0.0|      29.28|   29.99|        4.1|      6.0|     4.9|2007|    6| 2007-06-15|         9.0|         9.0|         9.0|          9.0|           6.8|           6.8|           6.8|            6.8|     70080.0|     70080.0|     70080.0|      70080.0|         64.0|         64.0|         64.0|          64.0|      89.0|      89.0|      89.0|       89.0|      77.0|      77.0|      77.0|       77.0|       0.0|       0.0|       0.0|        0.0|      15360.0|      15360.0|      15360.0|       15360.0|              5.6|              5.6|              5.6|               5.6|         30.02|         30.02|         30.02|          30.02|            5.0|            5.0|            5.0|             5.0|           0.0|           0.0|           0.0|            0.0|      64.0|      64.0|      64.0|       64.0|              0.0|              0.0|              0.0|               0.0|        0.0|        0.0|        0.0|         0.0|          55.0|          55.0|          55.0|           55.0|      12.0|      12.0|      12.0|       12.0|             29.3|             29.3|             29.3|              29.3|\n",
      "|      1|2007-06-16|93.0|66.0|80.0|  11.0|    60.0|   67.0| 0.0|15.0|15360.0|70140.0|        RA HZ|  0.0|     M|     0.0|        0.0|      29.26|   29.97|        4.8|     28.0|     5.8|2007|    6| 2007-06-16|         9.0|         9.0|         9.0|          9.0|           4.9|           4.9|           4.9|            4.9|     70080.0|     70080.0|     70080.0|      70080.0|         64.0|         64.0|         64.0|          64.0|      91.0|      91.0|      91.0|       91.0|      77.0|      77.0|      77.0|       77.0|       0.0|       0.0|       0.0|        0.0|      15360.0|      15360.0|      15360.0|       15360.0|              4.1|              4.1|              4.1|               4.1|         29.99|         29.99|         29.99|          29.99|            6.0|            6.0|            6.0|             6.0|           0.0|           0.0|           0.0|            0.0|      63.0|      63.0|      63.0|       63.0|              0.0|              0.0|              0.0|               0.0|        0.0|        0.0|        0.0|         0.0|          56.0|          56.0|          56.0|           56.0|      12.0|      12.0|      12.0|       12.0|            29.28|            29.28|            29.28|             29.28|\n",
      "|      1|2007-06-17|91.0|70.0|81.0|  12.0|    64.0|   70.0| 0.0|16.0|15360.0|70140.0|           HZ|  0.0|     M|     0.0|        0.0|      29.23|   29.95|        2.8|     11.0|     6.3|2007|    6| 2007-06-17|        11.0|        11.0|        11.0|         11.0|           5.8|           5.8|           5.8|            5.8|     70140.0|     70140.0|     70140.0|      70140.0|         67.0|         67.0|         67.0|          67.0|      93.0|      93.0|      93.0|       93.0|      80.0|      80.0|      80.0|       80.0|       0.0|       0.0|       0.0|        0.0|      15360.0|      15360.0|      15360.0|       15360.0|              4.8|              4.8|              4.8|               4.8|         29.97|         29.97|         29.97|          29.97|           28.0|           28.0|           28.0|            28.0|           0.0|           0.0|           0.0|            0.0|      66.0|      66.0|      66.0|       66.0|              0.0|              0.0|              0.0|               0.0|        0.0|        0.0|        0.0|         0.0|          60.0|          60.0|          60.0|           60.0|      15.0|      15.0|      15.0|       15.0|            29.26|            29.26|            29.26|             29.26|\n",
      "|      1|2007-06-18|89.0|69.0|79.0|   9.0|    65.0|   70.0| 0.0|14.0|15360.0|70140.0|   TSRA RA HZ|  0.0|     M|     0.0|       0.28|      29.12|   29.84|       14.0|     20.0|    15.1|2007|    6| 2007-06-18|        12.0|        12.0|        12.0|         12.0|           6.3|           6.3|           6.3|            6.3|     70140.0|     70140.0|     70140.0|      70140.0|         70.0|         70.0|         70.0|          70.0|      91.0|      91.0|      91.0|       91.0|      81.0|      81.0|      81.0|       81.0|       0.0|       0.0|       0.0|        0.0|      15360.0|      15360.0|      15360.0|       15360.0|              2.8|              2.8|              2.8|               2.8|         29.95|         29.95|         29.95|          29.95|           11.0|           11.0|           11.0|            11.0|           0.0|           0.0|           0.0|            0.0|      70.0|      70.0|      70.0|       70.0|              0.0|              0.0|              0.0|               0.0|        0.0|        0.0|        0.0|         0.0|          64.0|          64.0|          64.0|           64.0|      16.0|      16.0|      16.0|       16.0|            29.23|            29.23|            29.23|             29.23|\n",
      "|      1|2007-06-19|80.0|65.0|73.0|   3.0|    55.0|   63.0| 0.0| 8.0|15360.0|70200.0|           RA|  0.0|     M|     0.0|       0.58|      29.26|   29.95|       10.7|     28.0|    11.4|2007|    6| 2007-06-19|         9.0|         9.0|         9.0|          9.0|          15.1|          15.1|          15.1|           15.1|     70140.0|     70140.0|     70140.0|      70140.0|         70.0|         70.0|         70.0|          70.0|      89.0|      89.0|      89.0|       89.0|      79.0|      79.0|      79.0|       79.0|       0.0|       0.0|       0.0|        0.0|      15360.0|      15360.0|      15360.0|       15360.0|             14.0|             14.0|             14.0|              14.0|         29.84|         29.84|         29.84|          29.84|           20.0|           20.0|           20.0|            20.0|           0.0|           0.0|           0.0|            0.0|      69.0|      69.0|      69.0|       69.0|             0.28|             0.28|             0.28|              0.28|        0.0|        0.0|        0.0|         0.0|          65.0|          65.0|          65.0|           65.0|      14.0|      14.0|      14.0|       14.0|            29.12|            29.12|            29.12|             29.12|\n",
      "|      1|2007-06-20|84.0|61.0|73.0|   3.0|    52.0|   61.0| 0.0| 8.0|15360.0|70200.0|             |  0.0|     M|     0.0|        0.0|      29.39|    30.1|        7.8|     27.0|     8.8|2007|    6| 2007-06-20|         3.0|         3.0|         3.0|          3.0|          11.4|          11.4|          11.4|           11.4|     70200.0|     70200.0|     70200.0|      70200.0|         63.0|         63.0|         63.0|          63.0|      80.0|      80.0|      80.0|       80.0|      73.0|      73.0|      73.0|       73.0|       0.0|       0.0|       0.0|        0.0|      15360.0|      15360.0|      15360.0|       15360.0|             10.7|             10.7|             10.7|              10.7|         29.95|         29.95|         29.95|          29.95|           28.0|           28.0|           28.0|            28.0|           0.0|           0.0|           0.0|            0.0|      65.0|      65.0|      65.0|       65.0|             0.58|             0.58|             0.58|              0.58|        0.0|        0.0|        0.0|         0.0|          55.0|          55.0|          55.0|           55.0|       8.0|       8.0|       8.0|        8.0|            29.26|            29.26|            29.26|             29.26|\n",
      "+-------+----------+----+----+----+------+--------+-------+----+----+-------+-------+-------------+-----+------+--------+-----------+-----------+--------+-----------+---------+--------+----+-----+-----------+------------+------------+------------+-------------+--------------+--------------+--------------+---------------+------------+------------+------------+-------------+-------------+-------------+-------------+--------------+----------+----------+----------+-----------+----------+----------+----------+-----------+----------+----------+----------+-----------+-------------+-------------+-------------+--------------+-----------------+-----------------+-----------------+------------------+--------------+--------------+--------------+---------------+---------------+---------------+---------------+----------------+--------------+--------------+--------------+---------------+----------+----------+----------+-----------+-----------------+-----------------+-----------------+------------------+-----------+-----------+-----------+------------+--------------+--------------+--------------+---------------+----------+----------+----------+-----------+-----------------+-----------------+-----------------+------------------+\n",
      "only showing top 20 rows\n",
      "\n"
     ]
    }
   ],
   "source": [
    "weatherDS = weatherDS.select(selectParts).\\\n",
    "        join(avgValDF, (weatherDS.year == avgValDF.year) &\n",
    "                       (weatherDS.month == avgValDF.month),\n",
    "             \"left\").\\\n",
    "        selectExpr(selectExpParts)\n",
    "weatherDS = weatherDS.alias(\"weatherDS\")\n",
    "weatherDS.show()\n"
   ]
  }
 ],
 "metadata": {
  "kernelspec": {
   "display_name": "Python [conda root]",
   "language": "python",
   "name": "conda-root-py"
  }
 },
 "nbformat": 4,
 "nbformat_minor": 2
}
